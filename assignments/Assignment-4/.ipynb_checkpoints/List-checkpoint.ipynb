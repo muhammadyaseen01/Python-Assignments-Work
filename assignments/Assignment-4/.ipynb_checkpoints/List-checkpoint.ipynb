{
 "cells": [
  {
   "cell_type": "markdown",
   "id": "5f66649e-3afe-4d7b-b7b0-527040be429a",
   "metadata": {},
   "source": [
    "### 1. Write a program that accepts a list from user and print the alternate element of list."
   ]
  },
  {
   "cell_type": "code",
   "execution_count": 4,
   "id": "90b94ab0-9aad-4dd2-8967-0bc7889cd60d",
   "metadata": {},
   "outputs": [
    {
     "name": "stdin",
     "output_type": "stream",
     "text": [
      "how many elements you want to enter in your list:  4\n",
      "enter the element no : 1 to punt in the list 3\n",
      "enter the element no : 2 to punt in the list 5\n",
      "enter the element no : 3 to punt in the list 1\n",
      "enter the element no : 4 to punt in the list 6\n"
     ]
    },
    {
     "name": "stdout",
     "output_type": "stream",
     "text": [
      "[3, 5, 1, 6]\n",
      "3\n",
      "1\n"
     ]
    }
   ],
   "source": [
    "list = []\n",
    "n = int(input(\"how many elements you want to enter in your list: \"))\n",
    "for i in range (1,n+1):\n",
    "    number = int(input(f\"enter the element no : {i} to punt in the list\"))\n",
    "    list.append(number)\n",
    "print(list)\n",
    "for j in range(0,len(list),2):\n",
    "    print(list[j])"
   ]
  },
  {
   "cell_type": "markdown",
   "id": "086bd59f-2007-4c9e-aee9-f90caacb900d",
   "metadata": {},
   "source": [
    "### 2. Write a program that accepts a list from user. Your program should reverse the content of list and display it. Do not use reverse() method."
   ]
  },
  {
   "cell_type": "code",
   "execution_count": 13,
   "id": "4d54bcad-42a4-4564-ab54-e71631191773",
   "metadata": {},
   "outputs": [
    {
     "name": "stdin",
     "output_type": "stream",
     "text": [
      "how many elements you want to enter in your list:  3\n",
      "enter the element no : 1 to punt in the list 1\n",
      "enter the element no : 2 to punt in the list 2\n",
      "enter the element no : 3 to punt in the list 3\n"
     ]
    },
    {
     "name": "stdout",
     "output_type": "stream",
     "text": [
      "[1, 2, 3]\n",
      "3\n",
      "2\n",
      "1\n"
     ]
    }
   ],
   "source": [
    "list = []\n",
    "n = int(input(\"how many elements you want to enter in your list: \"))\n",
    "for i in range (1,n+1):\n",
    "    number = int(input(f\"enter the element no : {i} to punt in the list\"))\n",
    "    list.append(number)\n",
    "print(list)\n",
    "for j in range(len(list)-1,-1,-1):\n",
    "    # print(j)\n",
    "    print(list[j])"
   ]
  },
  {
   "cell_type": "markdown",
   "id": "6e82532d-99ec-4534-a927-12bd217e463b",
   "metadata": {},
   "source": [
    "### 3. Find and display the largest number of a list without using built-in function max(). Your program should ask the user to input values in list from keyboard"
   ]
  },
  {
   "cell_type": "code",
   "execution_count": 15,
   "id": "af7b26f3-56bd-4543-8294-f3a3736e7ff2",
   "metadata": {},
   "outputs": [
    {
     "name": "stdin",
     "output_type": "stream",
     "text": [
      "how many elements you want to enter in your list:  5\n",
      "enter the element no : 1 to punt in the list 9\n",
      "enter the element no : 2 to punt in the list 54\n",
      "enter the element no : 3 to punt in the list 16\n",
      "enter the element no : 4 to punt in the list 35\n",
      "enter the element no : 5 to punt in the list 86\n"
     ]
    },
    {
     "name": "stdout",
     "output_type": "stream",
     "text": [
      "86\n"
     ]
    }
   ],
   "source": [
    "list = []\n",
    "n = int(input(\"how many elements you want to enter in your list: \"))\n",
    "for i in range (1,n+1):\n",
    "    number = int(input(f\"enter the element no : {i} to punt in the list\"))\n",
    "    list.append(number)\n",
    "max = 0\n",
    "for j in range (len(list)):\n",
    "    if(max < list[j]):\n",
    "        max = list[j]\n",
    "    else:\n",
    "        pass\n",
    "print (max)"
   ]
  },
  {
   "cell_type": "markdown",
   "id": "8172a873-cb47-4a3e-9e7c-de28bf767188",
   "metadata": {},
   "source": [
    "### 4. Write a program that rotates the element of a list so that the element at the first index moves to the second index, the element in the second index moves to the third index, etc., and the element in the last index moves to the first index."
   ]
  },
  {
   "cell_type": "code",
   "execution_count": 7,
   "id": "c4f8b7ce-4793-4c3c-9c62-2ce9359a336e",
   "metadata": {},
   "outputs": [
    {
     "name": "stdin",
     "output_type": "stream",
     "text": [
      "Enter the elements of the list separated by spaces:  world 123 abc 97 hello\n"
     ]
    },
    {
     "name": "stdout",
     "output_type": "stream",
     "text": [
      "Rotated list: ['hello', 'world', '123', 'abc', '97']\n"
     ]
    }
   ],
   "source": [
    "elements = input(\"Enter the elements of the list separated by spaces: \").split()\n",
    "\n",
    "if len(elements) > 0:\n",
    "    rotated_list = [elements[-1]] + elements[:-1]\n",
    "else:\n",
    "    rotated_list = elements\n",
    "\n",
    "print(f\"Rotated list: {rotated_list}\")\n",
    "\n"
   ]
  },
  {
   "cell_type": "markdown",
   "id": "7637b4de-029a-438b-a15f-b03bb3c92dd3",
   "metadata": {},
   "source": [
    "### 5. Write a program that input a string and ask user to delete a given word from a string"
   ]
  },
  {
   "cell_type": "code",
   "execution_count": 18,
   "id": "56f1aaf9-4375-4646-a075-e11953d5a4e0",
   "metadata": {},
   "outputs": [
    {
     "name": "stdin",
     "output_type": "stream",
     "text": [
      "Enter the sentence:  hello i am fine a\n",
      "Enter the word you want to delete:  a\n"
     ]
    },
    {
     "name": "stdout",
     "output_type": "stream",
     "text": [
      "Updated sentence: hello im fine\n"
     ]
    }
   ],
   "source": [
    "# string = str(input(\"enter the sentence: \"))\n",
    "# delete = str(input(\"enter the word you want to delete: \"))\n",
    "# s_ind = string.find(delete)\n",
    "\n",
    "# new_string = string.replace(delete,\"\")\n",
    "# # new_string = new_string.strip()\n",
    "# print(new_string)\n",
    "\n",
    "string = str(input(\"Enter the sentence: \"))\n",
    "delete = str(input(\"Enter the word you want to delete: \"))\n",
    "\n",
    "# Add space before and after the word to remove extra spaces\n",
    "new_string = string.replace(\" \" + delete + \" \", \" \").replace(delete + \" \", \"\").replace(\" \" + delete, \"\")\n",
    "\n",
    "print(\"Updated sentence:\", new_string)\n",
    "\n",
    "# string = \"hello i am fine\"\n",
    "# delete = \"am\"\n",
    "# new = string.replace(delete,\"\")\n",
    "# print(new)\n"
   ]
  },
  {
   "cell_type": "markdown",
   "id": "59200112-5f43-46e8-8d11-2a9bb541a559",
   "metadata": {},
   "source": [
    "### 6. Write a program that reads a string from the user containing a date in the form mm/dd/yyyy. It should print the date in the form March 12, 2021"
   ]
  },
  {
   "cell_type": "code",
   "execution_count": 7,
   "id": "7c87f001-0269-404c-a6ae-078ccecd7f48",
   "metadata": {},
   "outputs": [
    {
     "name": "stdout",
     "output_type": "stream",
     "text": [
      "October 30, 2003\n",
      "October\n",
      "2003\n",
      "30\n"
     ]
    }
   ],
   "source": [
    "\n",
    "# date = input(\"Enter the date in format mm/dd/yyyy: \")\n",
    "date = \"30/10/2003\"\n",
    "split_list = date.split(\"/\")\n",
    "month = \"any\"\n",
    "day = 0\n",
    "year = 0\n",
    "# if len(split_list) != 3:\n",
    "#     print(\"Invalid date format!\")\n",
    "\n",
    "months = [\n",
    "        \"January\", \"February\", \"March\", \"April\", \"May\", \"June\",\n",
    "        \"July\", \"August\", \"September\", \"October\", \"November\", \"December\"\n",
    "    ]\n",
    "day = int(split_list[0])\n",
    "\n",
    "for i in range(len(months)):\n",
    "    if(int(split_list[1]) - 1 == i):\n",
    "        month = months[i]\n",
    "        # print(month)\n",
    "    else:\n",
    "        pass\n",
    "year = int(split_list[2])\n",
    "\n",
    "print(f\"{month} {day}, {year}\")\n",
    "\n",
    "# print(month)\n",
    "# print(year)\n",
    "# print(day)\n",
    "        \n",
    "\n"
   ]
  },
  {
   "cell_type": "markdown",
   "id": "b0d9992c-855f-446c-87dd-4498deba1828",
   "metadata": {},
   "source": [
    "### 7. Write a program with a function that accepts a string from keyboard and create a new string after converting character of each word capitalized. For instance, if the sentence is \"stop and smell the roses.\" the output should be \"Stop And Smell The Roses\""
   ]
  },
  {
   "cell_type": "code",
   "execution_count": 11,
   "id": "28e322de-7022-4729-8fe1-068da549fd24",
   "metadata": {},
   "outputs": [
    {
     "data": {
      "text/plain": [
       "'Stop And Smell The Roses.'"
      ]
     },
     "execution_count": 11,
     "metadata": {},
     "output_type": "execute_result"
    }
   ],
   "source": [
    "def func(string):\n",
    "    new_string = string.title()\n",
    "    return new_string\n",
    "func(\"stop and smell the roses.\")"
   ]
  },
  {
   "cell_type": "markdown",
   "id": "971b6996-9c40-4210-9547-a90233fd941a",
   "metadata": {},
   "source": [
    "### 8. Find the sum of each row of matrix of size m x n. For example for the following matrix output will be like this :\n",
    "        - Sum of row 1 = 32\n",
    "        - Sum of row 2 = 31\n",
    "        - Sum of row 3 = 63\n",
    "        "
   ]
  },
  {
   "cell_type": "code",
   "execution_count": 32,
   "id": "300d91ee-338b-48dd-bf3f-da4ee0c37cf0",
   "metadata": {},
   "outputs": [
    {
     "name": "stdout",
     "output_type": "stream",
     "text": [
      "Sum of row 1 = 32\n",
      "Sum of row 2 = 31\n",
      "Sum of row 3 = 63\n"
     ]
    }
   ],
   "source": [
    "list = [[2,11,7,12],[5,2,9,15],[3,8,10,42]]\n",
    "sum_list = []\n",
    "for i in list:\n",
    "    sum = 0\n",
    "    for j in i:\n",
    "        sum += j\n",
    "    sum_list.append(sum)\n",
    "\n",
    "for k in range(len(sum_list)):\n",
    "    print(f\"Sum of row {k+1} = {sum_list[k]}\")\n",
    "\n"
   ]
  },
  {
   "cell_type": "markdown",
   "id": "d2ee4f4b-35f3-4a74-837c-088736aaa316",
   "metadata": {},
   "source": [
    "###  9. Write a program to add two matrices of size n x m."
   ]
  },
  {
   "cell_type": "code",
   "execution_count": 70,
   "id": "836af288-f123-4767-9afd-56405842e561",
   "metadata": {},
   "outputs": [
    {
     "name": "stdout",
     "output_type": "stream",
     "text": [
      "[[1, 2, 3], [4, 5, 6], [7, 8, 9]]\n",
      "[[4, 5, 6], [1, 2, 3], [9, 8, 7]]\n",
      "[[5, 7, 9], [5, 7, 9], [16, 16, 16]]\n"
     ]
    }
   ],
   "source": [
    "def createMatrix(rowNo,colNo,dataList):\n",
    "    matrix =[]\n",
    "    for i in range(rowNo):\n",
    "        listRow = []\n",
    "        for j in range(colNo):\n",
    "            listRow.append(dataList[rowNo * i + j]) # 0 1 2\n",
    "        matrix.append(listRow)\n",
    "    return matrix\n",
    "\n",
    "list1 = [1,2,3,4,5,6,7,8,9]\n",
    "matrix1 = createMatrix(3,3,list1)\n",
    "print(matrix1)\n",
    "list2 = [4,5,6,1,2,3,9,8,7]\n",
    "matrix2 = createMatrix(3,3,list2)\n",
    "print(matrix2)\n",
    "# len(matrix1)\n",
    "# a = len(matrix1[0])\n",
    "# print(a)\n",
    "# def addMatrix(mat1,mat2):\n",
    "#     output_matrix = []\n",
    "#     for i in range(len(mat1)):\n",
    "#         listRow = []\n",
    "#         for j in range(len(mat2[0])):\n",
    "#             listRow.append(mat1[i][j] + mat2[i][j])\n",
    "#         output_matrix.append(listRow)\n",
    "#     return output_matrix\n",
    "# y = addMatrix(matrix1,matrix2)\n",
    "# print(y)\n",
    "\n",
    "\n",
    "def addMatrix(mat1,mat2):\n",
    "    output_matrix = [[0,0,0],[0,0,0],[0,0,0]]\n",
    "    for i in range(len(mat1)):\n",
    "        for j in range(len(mat1[0])):\n",
    "            output_matrix[i][j] = (mat1[i][j] + mat2[i][j])\n",
    "    return output_matrix\n",
    "\n",
    "y = addMatrix(matrix1,matrix2)\n",
    "print(y)"
   ]
  },
  {
   "cell_type": "markdown",
   "id": "4821b9d6-ea02-4b1e-8296-5493f423360f",
   "metadata": {},
   "source": [
    "### 10. Write a program to multiply two matrices"
   ]
  },
  {
   "cell_type": "code",
   "execution_count": 69,
   "id": "09aa5530-be02-4d54-b6e5-44b6c945cd87",
   "metadata": {},
   "outputs": [
    {
     "name": "stdout",
     "output_type": "stream",
     "text": [
      "[[1, 2, 3], [4, 5, 6], [7, 8, 9]]\n",
      "[[4, 5, 6], [1, 2, 3], [9, 8, 7]]\n",
      "[[33, 33, 33], [75, 78, 81], [117, 123, 129]]\n"
     ]
    }
   ],
   "source": [
    "def createMatrix(rowNo,colNo,dataList):\n",
    "    matrix =[]\n",
    "    for i in range(rowNo):\n",
    "        listRow = []\n",
    "        for j in range(colNo):\n",
    "            listRow.append(dataList[rowNo * i + j]) # 0 1 2\n",
    "        matrix.append(listRow)\n",
    "    return matrix\n",
    "\n",
    "list1 = [1,2,3,4,5,6,7,8,9]\n",
    "matrix1 = createMatrix(3,3,list1)\n",
    "print(matrix1)\n",
    "list2 = [4,5,6,1,2,3,9,8,7]\n",
    "matrix2 = createMatrix(3,3,list2)\n",
    "print(matrix2)\n",
    "# len(matrix1)\n",
    "# a = len(matrix1[0])\n",
    "# print(a)\n",
    "\n",
    "# print(matrix1[1][0])\n",
    "\n",
    "\n",
    "def mulMatrix(mat1,mat2):\n",
    "    if(len(mat1[0]) == len(mat2)): #mat1[col] == mat2[row]\n",
    "        output_matrix = [[0,0,0],[0,0,0],[0,0,0]]\n",
    "        for i in range(len(mat1)):\n",
    "            for j in range(len(mat2[0])):\n",
    "                for k in range(len(mat2)):\n",
    "                    output_matrix[i][j] += mat1[i][k] * mat2[k][j]\n",
    "        return output_matrix\n",
    "    else:\n",
    "        print(\"matrix not compatible!\")\n",
    "y = mulMatrix(matrix1,matrix2)\n",
    "print(y)"
   ]
  },
  {
   "cell_type": "code",
   "execution_count": null,
   "id": "9385a52c-cb60-4f67-bb9a-2de5b9f7265b",
   "metadata": {},
   "outputs": [],
   "source": []
  }
 ],
 "metadata": {
  "kernelspec": {
   "display_name": "Python 3 (ipykernel)",
   "language": "python",
   "name": "python3"
  },
  "language_info": {
   "codemirror_mode": {
    "name": "ipython",
    "version": 3
   },
   "file_extension": ".py",
   "mimetype": "text/x-python",
   "name": "python",
   "nbconvert_exporter": "python",
   "pygments_lexer": "ipython3",
   "version": "3.11.7"
  }
 },
 "nbformat": 4,
 "nbformat_minor": 5
}
