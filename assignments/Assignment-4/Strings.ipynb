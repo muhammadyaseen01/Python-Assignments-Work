{
 "cells": [
  {
   "cell_type": "markdown",
   "id": "1198cf34-2026-4cf8-8ab8-d3eb6fad5b44",
   "metadata": {},
   "source": [
    "### 1. Write a program that accepts a string from user. Your program should count and display number of vowels in that string."
   ]
  },
  {
   "cell_type": "code",
   "execution_count": 5,
   "id": "b9bb3d99-d7fe-44b1-8e8b-aea6fbf2501d",
   "metadata": {},
   "outputs": [
    {
     "name": "stdin",
     "output_type": "stream",
     "text": [
      "enter the string:  hello\n"
     ]
    },
    {
     "name": "stdout",
     "output_type": "stream",
     "text": [
      "total vowels in hello is 2\n"
     ]
    }
   ],
   "source": [
    "string = str(input(\"enter the string: \"))\n",
    "count = 0\n",
    "for i in string:\n",
    "    if(i in 'aeiou'):\n",
    "        count += 1\n",
    "    else:\n",
    "        pass\n",
    "print(f\"total vowels in {string} is {count}\")"
   ]
  },
  {
   "cell_type": "markdown",
   "id": "4a281537-8b73-4a93-9e52-073b32f1d1a3",
   "metadata": {},
   "source": [
    "### 2. Write a program that reads a string from keyboard and display:\n",
    "        * The number of uppercase letters in the string\n",
    "        * The number of lowercase letters in the string\n",
    "        * The number of digits in the string\n",
    "        * The number of whitespace characters in the string\n",
    "        "
   ]
  },
  {
   "cell_type": "code",
   "execution_count": 12,
   "id": "ffe3a821-c183-4d9e-9c08-719a215050c3",
   "metadata": {},
   "outputs": [
    {
     "name": "stdin",
     "output_type": "stream",
     "text": [
      "enter the string:  hello12 3\n"
     ]
    },
    {
     "name": "stdout",
     "output_type": "stream",
     "text": [
      "0\n",
      "9\n",
      "3\n",
      "1\n"
     ]
    }
   ],
   "source": [
    "string = str(input(\"enter the string: \"))\n",
    "upper_count = 0\n",
    "lower_count = 0\n",
    "digit_count = 0\n",
    "whitespace_count = 0\n",
    "for i in string:\n",
    "    if(i.isupper()):\n",
    "        upper_count += 1\n",
    "# lower ka sahi kaam nh kr rha h\n",
    "for j in string:\n",
    "    if(j.lower()):\n",
    "        lower_count += 1\n",
    "for k in string:\n",
    "    if (k.isdigit()):\n",
    "        digit_count += 1\n",
    "for l in string:\n",
    "    if(l.isspace()):\n",
    "        whitespace_count += 1\n",
    "print(upper_count)\n",
    "print(lower_count)\n",
    "print(digit_count)\n",
    "print(whitespace_count)"
   ]
  },
  {
   "cell_type": "markdown",
   "id": "65073f6d-b06f-41e3-b15d-1c597897b738",
   "metadata": {},
   "source": [
    "### 3. Write a Python program that accepts a string from user. Your program should create and display a new string where the first and last characters have been exchanged.\n",
    "### For example if the user enters the string 'HELLO' then new string would be 'OELLH"
   ]
  },
  {
   "cell_type": "code",
   "execution_count": 19,
   "id": "92b89278-142a-4eaa-bd10-26d498a4e86c",
   "metadata": {},
   "outputs": [
    {
     "name": "stdout",
     "output_type": "stream",
     "text": [
      "oellH\n"
     ]
    }
   ],
   "source": [
    "string = \"Hello\"\n",
    "new_string = string[-1] + string[1:-1] + string[0] # using slicing \n",
    "print(new_string)"
   ]
  },
  {
   "cell_type": "markdown",
   "id": "37c7a981-f673-4e35-b441-d01ad2e32b0e",
   "metadata": {},
   "source": [
    "### 4. Write a Python program that accepts a string from user. Your program should create a new string in reverse of first string and display it."
   ]
  },
  {
   "cell_type": "code",
   "execution_count": 46,
   "id": "73147ee7-9668-4876-8b34-9f9ab0676024",
   "metadata": {},
   "outputs": [
    {
     "name": "stdout",
     "output_type": "stream",
     "text": [
      "o\n",
      "l\n",
      "l\n",
      "e\n",
      "H\n"
     ]
    }
   ],
   "source": [
    "string = \"Hello\"\n",
    "i = -1\n",
    "# print(string[i])\n",
    "while True:\n",
    "    print(string[i])\n",
    "    if(i == -(len(string))):\n",
    "        break\n",
    "    i -= 1\n"
   ]
  },
  {
   "cell_type": "markdown",
   "id": "1995c4b2-a01e-4a3e-9366-6305957bda3b",
   "metadata": {},
   "source": [
    "### 5. Write a Python program that accepts a string from user. Your program should create a new string by shifting one position to left.\n",
    "### For example if the user enters the string 'examination 2021' then new string would be 'xamination 2021e'"
   ]
  },
  {
   "cell_type": "code",
   "execution_count": 41,
   "id": "88dbd37c-3c69-46b1-b7e6-5111ac84a5a6",
   "metadata": {},
   "outputs": [],
   "source": [
    "string = \"hello\"\n",
    "# string = input(\"Enter a string: \")\n",
    "\n",
    "new_string = string[1:] + string[0]\n",
    "\n",
    "print(f\"New string:\", new_string)\n"
   ]
  },
  {
   "cell_type": "markdown",
   "id": "17e1d5ab-66f5-4cc5-a3c3-94fe97dc9241",
   "metadata": {},
   "source": [
    "### 6. Write a program that asks the user to input his name and print its initials. Assuming that the user always types first name, middle name and last name and does not include any unnecessary spaces For example, if the user enters Ajay Kumar Garg the program should display A. K. G. Note:Don't use split() method"
   ]
  },
  {
   "cell_type": "code",
   "execution_count": 4,
   "id": "a367b013-49ec-4c31-9f0f-76cd636b5654",
   "metadata": {},
   "outputs": [
    {
     "name": "stdin",
     "output_type": "stream",
     "text": [
      "enter your full name:  Ajay Kumar Garg\n"
     ]
    },
    {
     "name": "stdout",
     "output_type": "stream",
     "text": [
      "A. K. G\n"
     ]
    }
   ],
   "source": [
    "string = str(input(\"enter your full name: \"))\n",
    "f = string[0]\n",
    "ind1 = string.find(\" \")\n",
    "# print(ind1)\n",
    "m = string[ind1+1]\n",
    "ind2 = string.find(\" \",9)\n",
    "# print(ind2)\n",
    "l = string[ind2+1]\n",
    "print(f\"{f}. {m}. {l}\")"
   ]
  },
  {
   "cell_type": "markdown",
   "id": "a08f2107-4749-4987-94c3-098837e9b303",
   "metadata": {},
   "source": [
    "### 7. A palindrome is a string that reads the same backward as forward. For example, the words dad, madam and radar are all palindromes. Write a programs that determines whether the string is a palindrome.\n",
    "### Note: do not use reverse() method`"
   ]
  },
  {
   "cell_type": "code",
   "execution_count": 56,
   "id": "ed66f444-1df9-4f9c-a24b-d870f3710732",
   "metadata": {},
   "outputs": [
    {
     "name": "stdout",
     "output_type": "stream",
     "text": [
      "True\n"
     ]
    }
   ],
   "source": [
    "string = \"madam\"\n",
    "j = -1\n",
    "i = 0\n",
    "res = True\n",
    "while True:\n",
    "    if (string[i] != string [j]):\n",
    "        res = False\n",
    "    if(j == -(len(string))):\n",
    "        break\n",
    "    j -= 1\n",
    "    i += 1\n",
    "print(res)"
   ]
  },
  {
   "cell_type": "markdown",
   "id": "6ff5dda6-72b8-4eb6-bd75-0eaa1325ad4f",
   "metadata": {},
   "source": [
    "### 8. Write a program that display following output:\n",
    "        - SHIFT\n",
    "        - HIFTS\n",
    "        - IFTSH\n",
    "        - FTSHI\n",
    "        - TSHIF\n",
    "        - SHIFT"
   ]
  },
  {
   "cell_type": "code",
   "execution_count": 3,
   "id": "5d91872f-87e8-403b-bbf6-57f939d93988",
   "metadata": {},
   "outputs": [
    {
     "name": "stdout",
     "output_type": "stream",
     "text": [
      "SHIFT\n",
      "HIFTS\n",
      "IFTSH\n",
      "FTSHI\n",
      "TSHIF\n",
      "SHIFT\n"
     ]
    }
   ],
   "source": [
    "word = \"SHIFT\"\n",
    "n = len(word)\n",
    "\n",
    "for i in range(n+1):\n",
    "    print(word[i:] + word[:i])\n"
   ]
  },
  {
   "cell_type": "markdown",
   "id": "b1491f25-a49f-4d9b-93cb-c69211de6398",
   "metadata": {},
   "source": [
    "### 9. Write a program in python that accepts a string to setup a passwords. Your entered password must meet the following requirements:\n",
    "        - The password must be at least eight characters long.\n",
    "        - It must contain at least one uppercase letter.\n",
    "        - It must contain at least one lowercase letter.\n",
    "        - It must contain at least one numeric digit.\n",
    "        - Your program should should perform this validation."
   ]
  },
  {
   "cell_type": "code",
   "execution_count": 5,
   "id": "f6a7c1da-fb00-4589-87ae-6b0c3a21165c",
   "metadata": {},
   "outputs": [
    {
     "name": "stdin",
     "output_type": "stream",
     "text": [
      "Enter your password:  Karachi123\n"
     ]
    },
    {
     "name": "stdout",
     "output_type": "stream",
     "text": [
      "Password is valid.\n"
     ]
    },
    {
     "data": {
      "text/plain": [
       "'Password is valid.'"
      ]
     },
     "execution_count": 5,
     "metadata": {},
     "output_type": "execute_result"
    }
   ],
   "source": [
    "# bY USING REGULAR EXPRESSION:\n",
    "import re\n",
    "\n",
    "def validate_password(password):\n",
    "    if len(password) <= 8:\n",
    "        return \"Password must be at least 8 characters long.\"\n",
    "    if not re.search(r'[A-Z]', password):\n",
    "        return \"Password must contain at least one uppercase letter.\"\n",
    "    if not re.search(r'[a-z]', password):\n",
    "        return \"Password must contain at least one lowercase letter.\"\n",
    "    if not re.search(r'[0-9]', password):\n",
    "        return \"Password must contain at least one numeric digit.\"\n",
    "    return \"Password is valid.\"\n",
    "\n",
    "password = input(\"Enter your password: \")\n",
    "print(validate_password(password))"
   ]
  },
  {
   "cell_type": "code",
   "execution_count": null,
   "id": "8ab4b957-b08f-47e2-be67-6ff3a9717027",
   "metadata": {},
   "outputs": [],
   "source": []
  }
 ],
 "metadata": {
  "kernelspec": {
   "display_name": "Python 3 (ipykernel)",
   "language": "python",
   "name": "python3"
  },
  "language_info": {
   "codemirror_mode": {
    "name": "ipython",
    "version": 3
   },
   "file_extension": ".py",
   "mimetype": "text/x-python",
   "name": "python",
   "nbconvert_exporter": "python",
   "pygments_lexer": "ipython3",
   "version": "3.11.7"
  }
 },
 "nbformat": 4,
 "nbformat_minor": 5
}
