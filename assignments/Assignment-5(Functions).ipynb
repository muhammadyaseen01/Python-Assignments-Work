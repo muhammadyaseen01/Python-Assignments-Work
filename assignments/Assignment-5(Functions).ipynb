{
 "cells": [
  {
   "cell_type": "markdown",
   "id": "7ac84394-3a22-4d3f-830e-cec570e5efea",
   "metadata": {},
   "source": [
    "### 1. Write a Python function to find the maximum of three numbers."
   ]
  },
  {
   "cell_type": "code",
   "execution_count": 4,
   "id": "5e1d61a4-a9ea-43d0-bd55-b5369193a6c1",
   "metadata": {},
   "outputs": [
    {
     "name": "stdin",
     "output_type": "stream",
     "text": [
      "enter the first number:  3\n",
      "enter the second number:  8\n",
      "enter the third number:  1\n"
     ]
    },
    {
     "name": "stdout",
     "output_type": "stream",
     "text": [
      "8\n"
     ]
    }
   ],
   "source": [
    "no1 = int(input(\"enter the first number: \"))\n",
    "no2 = int(input(\"enter the second number: \"))\n",
    "no3 = int(input(\"enter the third number: \"))\n",
    "def max(a,b,c):\n",
    "    max = 0\n",
    "    if(max < a):\n",
    "        max = a\n",
    "    if(max < b):\n",
    "        max = b\n",
    "    if(max < c):\n",
    "        max = c\n",
    "    return max\n",
    "\n",
    "maxNumber = max(no1,no2,no3)\n",
    "print(maxNumber)"
   ]
  },
  {
   "cell_type": "markdown",
   "id": "08d5d2b0-c437-4b84-b4f5-ba15efe28524",
   "metadata": {},
   "source": [
    "### 2. Write a Python function to sum all the numbers in a list.\n",
    "        - Sample List : (8, 2, 3, 0, 7)\n",
    "        - Expected Output : 20"
   ]
  },
  {
   "cell_type": "code",
   "execution_count": 7,
   "id": "e7a13ed3-360c-42c5-b076-687c1863a225",
   "metadata": {},
   "outputs": [
    {
     "name": "stdout",
     "output_type": "stream",
     "text": [
      "Output: 20\n"
     ]
    }
   ],
   "source": [
    "list = [8,2,3,0,7]\n",
    "def sum(list):\n",
    "    sum = 0\n",
    "    for i in list:\n",
    "        sum += i\n",
    "    return sum\n",
    "\n",
    "output = sum(list)\n",
    "print(\"Output:\",output)"
   ]
  },
  {
   "cell_type": "markdown",
   "id": "63f6fd3c-47ce-4308-8a3a-33befd5b0506",
   "metadata": {},
   "source": [
    "### 3. Write a Python function to multiply all the numbers in a list.\n",
    "        - Sample List : (8, 2, 3, -1, 7)\n",
    "        - Expected Output : -336"
   ]
  },
  {
   "cell_type": "code",
   "execution_count": 10,
   "id": "2e1803b9-8b0f-4c84-84a2-4a809b474af4",
   "metadata": {},
   "outputs": [
    {
     "name": "stdout",
     "output_type": "stream",
     "text": [
      "Output: -336\n"
     ]
    }
   ],
   "source": [
    "list = [8,2,3,-1,7]\n",
    "def mul(list):\n",
    "    mul = 1\n",
    "    for i in list:\n",
    "        mul *= i\n",
    "    return mul\n",
    "\n",
    "output = mul(list)\n",
    "print(\"Output:\",output)"
   ]
  },
  {
   "cell_type": "markdown",
   "id": "891d24bf-8c84-4ad9-9766-814d924651e0",
   "metadata": {},
   "source": [
    "### 4. Write a Python program to reverse a string.\n",
    "        - Sample String : \"1234abcd\"\n",
    "        - Expected Output : \"dcba4321\""
   ]
  },
  {
   "cell_type": "code",
   "execution_count": 15,
   "id": "00d46175-f57c-4635-afb3-c19191e766f5",
   "metadata": {},
   "outputs": [
    {
     "name": "stdout",
     "output_type": "stream",
     "text": [
      "dcba4321"
     ]
    }
   ],
   "source": [
    "string = '1234abcd'\n",
    "def reverse(string):\n",
    "    for i in range(len(string)-1,-1,-1):\n",
    "        print(string[i],end=\"\")\n",
    "\n",
    "reverse(string)"
   ]
  },
  {
   "cell_type": "markdown",
   "id": "833a2d0f-68a0-464c-be36-d670eb93168d",
   "metadata": {},
   "source": [
    "### 5. Write a Python function to calculate the factorial of a number (a non-negative integer). The function accepts the number as an argument."
   ]
  },
  {
   "cell_type": "code",
   "execution_count": 24,
   "id": "e1053daa-7419-40b9-92eb-72d6ccc4b67a",
   "metadata": {},
   "outputs": [
    {
     "name": "stdin",
     "output_type": "stream",
     "text": [
      "enter the number:  5\n"
     ]
    },
    {
     "name": "stdout",
     "output_type": "stream",
     "text": [
      "120\n"
     ]
    }
   ],
   "source": [
    "number = int(input(\"enter the number: \"))\n",
    "def factorial(number):\n",
    "    factorial = 1\n",
    "    if (number == 0 or number == 1):\n",
    "        print(\"The factorial of given no is:\",factorial)\n",
    "    elif(number > 0):\n",
    "        for i in range(1,number+1):\n",
    "            factorial *= i\n",
    "    else:\n",
    "        print(\"entered number is not position integer\")\n",
    "    return factorial\n",
    "\n",
    "output = factorial(number)\n",
    "print(output)"
   ]
  },
  {
   "cell_type": "markdown",
   "id": "9c27a51b-69fb-47e9-bd9b-587deef5b4a2",
   "metadata": {},
   "source": [
    "### 6. Write a Python function to check whether a number falls within a given range."
   ]
  },
  {
   "cell_type": "code",
   "execution_count": 28,
   "id": "0b847829-0f46-41df-a02d-e89597135b65",
   "metadata": {},
   "outputs": [
    {
     "name": "stdin",
     "output_type": "stream",
     "text": [
      "enter the number:  5\n",
      "enter the start of range:  1\n",
      "enter the end of range:  8\n"
     ]
    },
    {
     "name": "stdout",
     "output_type": "stream",
     "text": [
      "True\n"
     ]
    }
   ],
   "source": [
    "number = int(input(\"enter the number: \"))\n",
    "start = int(input(\"enter the start of range: \"))\n",
    "end = int(input(\"enter the end of range: \"))\n",
    "def in_range(number,start,end):\n",
    "    return start <= number <= end\n",
    "output = in_range(number,start,end)\n",
    "print(output)"
   ]
  },
  {
   "cell_type": "markdown",
   "id": "7aef10f4-0eb9-47d0-aa4a-232ffeafca3f",
   "metadata": {},
   "source": [
    "### 7. Write a Python function that accepts a string and counts the number of upper and lower case letters.\n",
    "           - Sample String : 'The quick Brow Fox'\n",
    "           - Expected Output :\n",
    "           - No. of Upper case characters : 3\n",
    "           - No. of Lower case Characters : 12"
   ]
  },
  {
   "cell_type": "code",
   "execution_count": 2,
   "id": "524b1811-3883-427b-90ec-6564c2d78bb3",
   "metadata": {},
   "outputs": [
    {
     "name": "stdin",
     "output_type": "stream",
     "text": [
      "Enter a string: hello\n"
     ]
    },
    {
     "name": "stdout",
     "output_type": "stream",
     "text": [
      "Number of Upper case characters: 0\n",
      "Number of Lower case characters: 5\n"
     ]
    }
   ],
   "source": [
    "def letters():\n",
    "    string = str(input(\"Enter a string:\"))\n",
    "    uppercase = 0\n",
    "    lowercase = 0\n",
    "\n",
    "    for char in string:\n",
    "        if char.isupper():\n",
    "            uppercase += 1\n",
    "        elif char.islower():\n",
    "            lowercase += 1\n",
    "\n",
    "    print(\"Number of Upper case characters:\",uppercase)\n",
    "    print(\"Number of Lower case characters:\",lowercase)\n",
    "\n",
    "letters()"
   ]
  },
  {
   "cell_type": "markdown",
   "id": "5e6512d9-e4bc-45da-be81-c837103798fe",
   "metadata": {},
   "source": [
    "### 8. Write a Python function that takes a list and returns a new list with distinct elements from the first list.\n",
    "#### Sample List : [1,2,3,3,3,3,4,5]\n",
    "#### Unique List : [1, 2, 3, 4, 5] "
   ]
  },
  {
   "cell_type": "code",
   "execution_count": 3,
   "id": "8e590a2a-d41a-494b-9fd6-8ebbe2a988ab",
   "metadata": {},
   "outputs": [
    {
     "name": "stdin",
     "output_type": "stream",
     "text": [
      "how many elements you want to enter in your list:  3\n",
      "enter the element no : 1 to put in the list 5\n",
      "enter the element no : 2 to put in the list 1\n",
      "enter the element no : 3 to put in the list 2\n"
     ]
    },
    {
     "name": "stdout",
     "output_type": "stream",
     "text": [
      "Sample List: [5, 1, 2]\n",
      "Unique List: [1, 2, 5]\n"
     ]
    }
   ],
   "source": [
    "def uniquelist():\n",
    "    list1 = []\n",
    "    n = int(input(\"how many elements you want to enter in your list: \"))\n",
    "    for i in range (1,n+1):\n",
    "        number = int(input(f\"enter the element no : {i} to put in the list\"))\n",
    "        list1.append(number)\n",
    "        unique_list = list(set(list1))\n",
    "    print(\"Sample List:\",list1)\n",
    "    print(\"Unique List:\",unique_list)\n",
    "\n",
    "uniquelist()"
   ]
  },
  {
   "cell_type": "markdown",
   "id": "4560ff41-8a47-4ba8-8e48-0d2d2f9056da",
   "metadata": {},
   "source": [
    "# 9. Write a Python function that takes a number as a parameter and checks whether the number is prime or not. Note : A prime number (or a prime) is a natural number greater than 1 and that has no positive divisors other than 1 and itself. \n"
   ]
  },
  {
   "cell_type": "code",
   "execution_count": 4,
   "id": "f19946ad-186a-4b3e-92f6-bd7510b8385f",
   "metadata": {},
   "outputs": [
    {
     "name": "stdin",
     "output_type": "stream",
     "text": [
      "Enter a number: 12\n"
     ]
    },
    {
     "name": "stdout",
     "output_type": "stream",
     "text": [
      "12 is a prime number\n"
     ]
    }
   ],
   "source": [
    "def primenumber():\n",
    "    number = int(input(\"Enter a number:\"))\n",
    "    if number == 0 or number == 1:\n",
    "        print(number, \"is not a prime number\")\n",
    "    elif number > 1:\n",
    "        for i in range(2,number):\n",
    "           if (number % i == 0) and (number / number == 0):\n",
    "               print(number,\"is not a prime number\")\n",
    "               continue\n",
    "           else:\n",
    "               print(number,\"is a prime number\")\n",
    "               break\n",
    "    else:\n",
    "       print(number,\"is not a prime number\")\n",
    "\n",
    "primenumber()"
   ]
  },
  {
   "cell_type": "markdown",
   "id": "f216272a-3bbd-4eeb-abd4-a8da8e2855f2",
   "metadata": {},
   "source": [
    "# 10. Write a Python program to print the even numbers from a given list.\n",
    "#### Sample List : [1, 2, 3, 4, 5, 6, 7, 8, 9]\n",
    "#### Expected Result : [2, 4, 6, 8] "
   ]
  },
  {
   "cell_type": "code",
   "execution_count": 5,
   "id": "f956f6b7-1963-483e-be0f-b096f8240b15",
   "metadata": {},
   "outputs": [
    {
     "data": {
      "text/plain": [
       "[2, 4, 6, 8]"
      ]
     },
     "execution_count": 5,
     "metadata": {},
     "output_type": "execute_result"
    }
   ],
   "source": [
    "list = [1,2,3,4,5,6,7,8,9]\n",
    "list[1::2]"
   ]
  },
  {
   "cell_type": "markdown",
   "id": "b39118ed-5109-4502-a947-250dbc3c6891",
   "metadata": {},
   "source": [
    "# 11. Write a Python function to check whether a number is \"Perfect\" or not. According to Wikipedia : In number theory, a perfect number is a positive integer that is equal to the sum of its proper positive divisors, that is, the sum of its positive divisors excluding the number itself (also known as its aliquot sum). Equivalently, a perfect number is a number that is half the sum of all of its positive divisors (including itself). Example : The first perfect number is 6, because 1, 2, and 3 are its proper positive divisors, and 1 + 2 + 3 = 6. Equivalently, the number 6 is equal to half the sum of all its positive divisors: ( 1 + 2 + 3 + 6 ) / 2 = 6. The next perfect number is 28 = 1 + 2 + 4 + 7 + 14. This is followed by the perfect numbers 496 and 8128. \n"
   ]
  },
  {
   "cell_type": "code",
   "execution_count": 6,
   "id": "d32d7ab1-ad62-42f7-b229-1275eacb4fb6",
   "metadata": {},
   "outputs": [
    {
     "name": "stdin",
     "output_type": "stream",
     "text": [
      "Enter a number: 7\n"
     ]
    },
    {
     "data": {
      "text/plain": [
       "'Yes this is a perfect number'"
      ]
     },
     "execution_count": 6,
     "metadata": {},
     "output_type": "execute_result"
    }
   ],
   "source": [
    "def perfectnumber():\n",
    "    number = int(input(\"Enter a number:\"))\n",
    "    if number < 0:\n",
    "        return \"Not a perfect number\"\n",
    "        \n",
    "    divisors = (i for i in range(1, number)\n",
    "    if number % i == 0)\n",
    "    sum_divisors = sum (divisors)\n",
    "    return \"Yes this is a perfect number\"\n",
    "\n",
    "perfectnumber()"
   ]
  },
  {
   "cell_type": "markdown",
   "id": "ba64aa50-c8fb-4b7d-b738-617b4cfe83ff",
   "metadata": {},
   "source": [
    "# 12. Write a Python function that checks whether a passed string is a palindrome or not. Note: A palindrome is a word, phrase, or sequence that reads the same backward as forward, e.g., madam or nurses run. "
   ]
  },
  {
   "cell_type": "code",
   "execution_count": 10,
   "id": "a2257f6a-6ea0-4786-ba5a-d4d5bcfdb960",
   "metadata": {},
   "outputs": [
    {
     "name": "stdin",
     "output_type": "stream",
     "text": [
      "Enter a string: madam\n"
     ]
    },
    {
     "data": {
      "text/plain": [
       "'This madam is a palidrome'"
      ]
     },
     "execution_count": 10,
     "metadata": {},
     "output_type": "execute_result"
    }
   ],
   "source": [
    "def string():\n",
    "    string_1 = str(input(\"Enter a string:\"))\n",
    "    palidrome = string_1[::-1]\n",
    "    if string_1 == palidrome:\n",
    "        return f\"This {string_1} is a palidrome\"\n",
    "    else:\n",
    "        return f\"This {string_1} is a palidrome\"\n",
    "\n",
    "string()\n"
   ]
  },
  {
   "cell_type": "code",
   "execution_count": null,
   "id": "bc45aa87-d44f-4079-ac54-4b9555face92",
   "metadata": {},
   "outputs": [],
   "source": []
  }
 ],
 "metadata": {
  "kernelspec": {
   "display_name": "Python 3 (ipykernel)",
   "language": "python",
   "name": "python3"
  },
  "language_info": {
   "codemirror_mode": {
    "name": "ipython",
    "version": 3
   },
   "file_extension": ".py",
   "mimetype": "text/x-python",
   "name": "python",
   "nbconvert_exporter": "python",
   "pygments_lexer": "ipython3",
   "version": "3.11.7"
  }
 },
 "nbformat": 4,
 "nbformat_minor": 5
}
