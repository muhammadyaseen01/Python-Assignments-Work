{
 "cells": [
  {
   "cell_type": "code",
   "execution_count": 25,
   "id": "86536b91-3f84-41d4-b964-a7fa19060f69",
   "metadata": {},
   "outputs": [
    {
     "name": "stdout",
     "output_type": "stream",
     "text": [
      "Account for Muhammad with account_no PKYN001 created with balance $0.0.\n",
      "Account for Yaseen with account_no PKYN002 created with balance $0.0.\n",
      "Invalid name. Only alphabets are allowed.\n"
     ]
    }
   ],
   "source": [
    "accounts = {}\n",
    "current_id = 0\n",
    "\n",
    "def generateAccountNo(current_id):\n",
    "    prefix = \"PKYN\" # starting of account number\n",
    "    next_number = str(current_id + 1).zfill(3)  # use three digit id but you can increase it by increasing the number in zfill\n",
    "    return prefix + next_number\n",
    "\n",
    "\n",
    "def createAccount(name,accounts,current_id):\n",
    "    if not name.isalpha():  #to check name only contain alphabets\n",
    "        print(\"Invalid name. Only alphabets are allowed.\")\n",
    "        return\n",
    "    if(name in accounts):\n",
    "        print(\"Already Occupied for this name. \")\n",
    "        return  \n",
    "    \n",
    "    # generating account number and save it in accout_no variable\n",
    "    account_no = generateAccountNo(current_id)\n",
    "    # making dictionary to save accounts details\n",
    "    account_details = {\n",
    "    \"name\": name,\n",
    "    \"balance\": 0.0,\n",
    "    \"transactions\": []\n",
    "    }\n",
    "\n",
    "    \n",
    "    # saving accounts_details as value and set account_no as key\n",
    "    accounts[account_no] = account_details\n",
    "    print(f\"Account for {account_details['name']} with account_no {account_no} created with balance $0.0.\")\n",
    "    # print(account['name'])\n",
    "\n",
    "\n",
    "# FOR Checking\n",
    "name = \"Muhammad\"\n",
    "if not name.isalpha():  #to check name only contain alphabets\n",
    "    print(\"Invalid name. Only alphabets are allowed.\")  \n",
    "else:\n",
    "    createAccount(name,accounts,current_id) \n",
    "    current_id += 1\n",
    "name = \"Yaseen\"\n",
    "if not name.isalpha():  #to check name only contain alphabets\n",
    "    print(\"Invalid name. Only alphabets are allowed.\")  \n",
    "else:\n",
    "    createAccount(name,accounts,current_id)\n",
    "    current_id += 1\n",
    "name = \"Yas33n\"\n",
    "if not name.isalpha():  #to check name only contain alphabets\n",
    "    print(\"Invalid name. Only alphabets are allowed.\")\n",
    "else:\n",
    "    createAccount(name,accounts,current_id)\n",
    "    current_id += 1\n",
    "    "
   ]
  },
  {
   "cell_type": "code",
   "execution_count": 27,
   "id": "a99ebc75-94ec-40d4-b2ca-3e5491e34e63",
   "metadata": {},
   "outputs": [
    {
     "name": "stdin",
     "output_type": "stream",
     "text": [
      "enter the amount you want to deposit:  1243\n"
     ]
    },
    {
     "name": "stdout",
     "output_type": "stream",
     "text": [
      "Amount Deposit: $1243.0\n",
      "Updated balance: $6545.0\n"
     ]
    }
   ],
   "source": [
    "#i am not adding limit how much ammount can be deposit in one transaction or in one day\n",
    "# it is also possible but not mentioned in the question\n",
    "def depositMoney(account_no):\n",
    "    if account_no in accounts: #checking weather the account_no is in accounts dict or not\n",
    "        amount = float(input(\"enter the amount you want to deposit: \"))\n",
    "        try: # checking for ammount \n",
    "            if amount < 0:\n",
    "                raise ValueError(\"Negative values are not allowed.\")\n",
    "            elif amount == 0:\n",
    "                raise ValueError (\"Zero value is not allowed\")\n",
    "            # adding amount to balance\n",
    "            accounts[account_no][\"balance\"] += amount\n",
    "            # inserting deposited amount in transaction dictionary of given account number\n",
    "            accounts[account_no][\"transactions\"].append(f\"Deposit: ${amount}\")\n",
    "            print(f\"Amount Deposit: ${amount}\")\n",
    "            print(f\"Updated balance: ${accounts[account_no]['balance']}\")\n",
    "            # print(accounts[account_no]['balance'])\n",
    "            with open(\"transactions.txt\", \"a\") as f: # open in \"a\" mode to avoid overwriting\n",
    "                # writing in the transaction file as per question requirement\n",
    "                f.write(f\"Account No: {account_no}, Transaction: Deposit, Amount: ${amount}, New Balance: ${accounts[account_no]['balance']}\\n\")\n",
    "        # to catch error\n",
    "        except ValueError as e:\n",
    "            print(\"Error:\", e)\n",
    "    else:\n",
    "        print(f\"Acoount_no: {account_no} not found!\")\n",
    "\n",
    "depositMoney('PKYN001')\n"
   ]
  },
  {
   "cell_type": "code",
   "execution_count": 28,
   "id": "8b97b435-e807-424e-b4f9-4139935ef7f5",
   "metadata": {},
   "outputs": [
    {
     "name": "stdin",
     "output_type": "stream",
     "text": [
      "enter the amount you want to withdraw:  1421\n"
     ]
    },
    {
     "name": "stdout",
     "output_type": "stream",
     "text": [
      "Amount withdrawn: $1421.0\n",
      "Updated balance: $5124.0\n"
     ]
    }
   ],
   "source": [
    "#i am not adding limit how much ammount can be withdraw in one transaction or in one day\n",
    "# it is also possible but not mentioned in the question\n",
    "def withdrawMoney(account_no):\n",
    "    if account_no in accounts:#checking weather the account_no is in accounts dict or not\n",
    "        amount = float(input(\"enter the amount you want to withdraw: \"))\n",
    "        try:# checking for ammount\n",
    "            if amount < 0:\n",
    "                raise ValueError(\"Negative values are not allowed.\")\n",
    "            elif amount == 0:\n",
    "                raise ValueError (\"Zero value is not allowed\")\n",
    "            # amount should be lesser than current balance\n",
    "            if amount > accounts[account_no][\"balance\"]:\n",
    "                print(\"Insufficient balance!\")\n",
    "                return\n",
    "\n",
    "            # detecting amount from current balance\n",
    "            accounts[account_no][\"balance\"] -= amount\n",
    "            # inserting withdrawed amount in transaction dictionary of given account number\n",
    "            accounts[account_no][\"transactions\"].append(f\"Withdrawn: ${amount}\")\n",
    "            print(f\"Amount withdrawn: ${amount}\")\n",
    "            print(f\"Updated balance: ${accounts[account_no]['balance']}\")\n",
    "            \n",
    "        except ValueError as e:\n",
    "            print(\"Error:\", e)\n",
    "    else:\n",
    "        print(f\"Acoount_no: {account_no} not found!\")\n",
    "        \n",
    "withdrawMoney('PKYN001')\n"
   ]
  },
  {
   "cell_type": "code",
   "execution_count": 29,
   "id": "5157f6dc-5618-410f-9c26-d3ff0f0702a0",
   "metadata": {},
   "outputs": [
    {
     "name": "stdout",
     "output_type": "stream",
     "text": [
      "The current balance for account_no: PKYN001 is $5124.0\n"
     ]
    }
   ],
   "source": [
    "def checkBalance(account_no):\n",
    "    if account_no in accounts:#checking account no is in dictionary or not\n",
    "        #printing  current balance for given account number\n",
    "        print(f\"The current balance for account_no: {account_no} is ${accounts[account_no]['balance']}\")\n",
    "    else:\n",
    "        print(\"Invalid account no\")\n",
    "checkBalance('PKYN001')\n"
   ]
  },
  {
   "cell_type": "code",
   "execution_count": 30,
   "id": "77690552-d528-4b2a-8f09-47213176d426",
   "metadata": {},
   "outputs": [
    {
     "name": "stdout",
     "output_type": "stream",
     "text": [
      "Transactions for account_no PKYN001 are:\n",
      "Deposit: $5302.0\n",
      "Deposit: $1243.0\n",
      "Withdrawn: $1421.0\n"
     ]
    }
   ],
   "source": [
    "def printTransactions(account_no):\n",
    "    if account_no in accounts:#checking account no is in dictionary or not\n",
    "        print(f\"Transactions for account_no {account_no} are:\")\n",
    "        # transactions may be more than one therefore we use for loop\n",
    "        for transaction in accounts[account_no][\"transactions\"]:\n",
    "            print(transaction)\n",
    "    else:\n",
    "        print(f\"Account_no: {account_no} not found!\")\n",
    "\n",
    "printTransactions('PKYN001')"
   ]
  },
  {
   "cell_type": "code",
   "execution_count": null,
   "id": "564e68d3-c79f-4332-ac4f-49dc3a7cd3c2",
   "metadata": {},
   "outputs": [],
   "source": []
  }
 ],
 "metadata": {
  "kernelspec": {
   "display_name": "Python 3 (ipykernel)",
   "language": "python",
   "name": "python3"
  },
  "language_info": {
   "codemirror_mode": {
    "name": "ipython",
    "version": 3
   },
   "file_extension": ".py",
   "mimetype": "text/x-python",
   "name": "python",
   "nbconvert_exporter": "python",
   "pygments_lexer": "ipython3",
   "version": "3.11.7"
  }
 },
 "nbformat": 4,
 "nbformat_minor": 5
}
