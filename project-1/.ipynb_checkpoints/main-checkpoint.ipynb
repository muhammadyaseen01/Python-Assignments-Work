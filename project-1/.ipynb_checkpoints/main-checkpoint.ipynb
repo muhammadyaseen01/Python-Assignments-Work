{
 "cells": [
  {
   "cell_type": "code",
   "execution_count": null,
   "id": "7d2fbcfc-8464-497b-a6ca-a7059708ae32",
   "metadata": {},
   "outputs": [],
   "source": [
    "from banking import *\n",
    "\n",
    "\n",
    "while True:\n",
    "    # display_intro()\n",
    "    print(\"Press 1 if you want to create account.\")\n",
    "    print(\"Press 2 if you want to deposit money in your account.\")\n",
    "    print(\"Press 3 if you want to withdraw money from your account.\")\n",
    "    print(\"Press 4 if you want to Check Balance.\")\n",
    "    print(\"Press 5 if you want to see transactions.\")\n",
    "    print(\"Press 0 to exit\")\n",
    "    number = int(input(\"Enter your choice: \"))\n",
    "    if number == 1:\n",
    "        name = str(input(\"Enter your name: \"))\n",
    "        if not name.isalpha():  #to check name only contain alphabets\n",
    "            print(\"Invalid name. Only alphabets are allowed.\")  \n",
    "        else:\n",
    "            createAccount(name,accounts,current_id)    \n",
    "    elif number == 2:\n",
    "        account_no = input(\"Enter your account number: \")\n",
    "        depositMoney(account_no)        \n",
    "    elif number == 3:\n",
    "        account_no = input(\"Enter your account number: \")\n",
    "        withdrawMoney(account_no)        \n",
    "    elif number == 4:\n",
    "        account_no = input(\"Enter your account number: \")\n",
    "        checkBalance(account_no)        \n",
    "    elif number == 5:\n",
    "        account_no = input(\"Enter your account number: \")\n",
    "        printTransactions(account_no)        \n",
    "    elif number == 0:\n",
    "        break\n",
    "    else:\n",
    "        print(\"Invalid Choice\")\n"
   ]
  }
 ],
 "metadata": {
  "kernelspec": {
   "display_name": "Python 3 (ipykernel)",
   "language": "python",
   "name": "python3"
  },
  "language_info": {
   "codemirror_mode": {
    "name": "ipython",
    "version": 3
   },
   "file_extension": ".py",
   "mimetype": "text/x-python",
   "name": "python",
   "nbconvert_exporter": "python",
   "pygments_lexer": "ipython3",
   "version": "3.11.7"
  }
 },
 "nbformat": 4,
 "nbformat_minor": 5
}
